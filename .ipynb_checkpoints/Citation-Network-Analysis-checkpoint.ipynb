{
 "cells": [
  {
   "cell_type": "markdown",
   "metadata": {},
   "source": [
    "# Citation Network Analysis\n",
    "<br><br>\n",
    "In this notebook we are going to explore the citation analysis in “Climate Change Mitigation” using Scopus API in\n",
    "the last five years.<br> This notebook is part of Social Network analysis course project."
   ]
  },
  {
   "cell_type": "code",
   "execution_count": 1,
   "metadata": {},
   "outputs": [],
   "source": [
    "import pandas as pd\n",
    "import numpy as np\n",
    "import matplotlib.pyplot as plt\n",
    "from collections import Counter\n",
    "\n",
    "plt.style.use('ggplot')"
   ]
  },
  {
   "cell_type": "markdown",
   "metadata": {},
   "source": [
    "1. \n",
    "Construct a small database containing the list of papers outputted by the API as output\n",
    "the query “climate change mitigation” with title, author names and country of the\n",
    "affiliation and a list of keywords, if available. "
   ]
  },
  {
   "cell_type": "code",
   "execution_count": 2,
   "metadata": {},
   "outputs": [
    {
     "data": {
      "text/html": [
       "<div>\n",
       "<style scoped>\n",
       "    .dataframe tbody tr th:only-of-type {\n",
       "        vertical-align: middle;\n",
       "    }\n",
       "\n",
       "    .dataframe tbody tr th {\n",
       "        vertical-align: top;\n",
       "    }\n",
       "\n",
       "    .dataframe thead th {\n",
       "        text-align: right;\n",
       "    }\n",
       "</style>\n",
       "<table border=\"1\" class=\"dataframe\">\n",
       "  <thead>\n",
       "    <tr style=\"text-align: right;\">\n",
       "      <th></th>\n",
       "      <th>Authors</th>\n",
       "      <th>Author(s) ID</th>\n",
       "      <th>Title</th>\n",
       "      <th>Year</th>\n",
       "      <th>Source title</th>\n",
       "      <th>Volume</th>\n",
       "      <th>Issue</th>\n",
       "      <th>Art. No.</th>\n",
       "      <th>Page start</th>\n",
       "      <th>Page end</th>\n",
       "      <th>...</th>\n",
       "      <th>ISBN</th>\n",
       "      <th>CODEN</th>\n",
       "      <th>PubMed ID</th>\n",
       "      <th>Language of Original Document</th>\n",
       "      <th>Abbreviated Source Title</th>\n",
       "      <th>Document Type</th>\n",
       "      <th>Publication Stage</th>\n",
       "      <th>Open Access</th>\n",
       "      <th>Source</th>\n",
       "      <th>EID</th>\n",
       "    </tr>\n",
       "  </thead>\n",
       "  <tbody>\n",
       "    <tr>\n",
       "      <th>0</th>\n",
       "      <td>Monerie P.-A., Pohl B., Gaetani M.</td>\n",
       "      <td>36995939400;8934032500;15319055900;</td>\n",
       "      <td>The fast response of Sahel precipitation to cl...</td>\n",
       "      <td>2021</td>\n",
       "      <td>npj Climate and Atmospheric Science</td>\n",
       "      <td>4</td>\n",
       "      <td>1</td>\n",
       "      <td>24</td>\n",
       "      <td>NaN</td>\n",
       "      <td>NaN</td>\n",
       "      <td>...</td>\n",
       "      <td>NaN</td>\n",
       "      <td>NaN</td>\n",
       "      <td>NaN</td>\n",
       "      <td>English</td>\n",
       "      <td>npj Clim. Atmos. Sci.</td>\n",
       "      <td>Article</td>\n",
       "      <td>Final</td>\n",
       "      <td>All Open Access, Gold, Green</td>\n",
       "      <td>Scopus</td>\n",
       "      <td>2-s2.0-85103988374</td>\n",
       "    </tr>\n",
       "    <tr>\n",
       "      <th>1</th>\n",
       "      <td>Koh L.P., Zeng Y., Sarira T.V., Siman K.</td>\n",
       "      <td>7004786474;55344338300;57217291359;57222126865;</td>\n",
       "      <td>Carbon prospecting in tropical forests for cli...</td>\n",
       "      <td>2021</td>\n",
       "      <td>Nature Communications</td>\n",
       "      <td>12</td>\n",
       "      <td>1</td>\n",
       "      <td>1271</td>\n",
       "      <td>NaN</td>\n",
       "      <td>NaN</td>\n",
       "      <td>...</td>\n",
       "      <td>NaN</td>\n",
       "      <td>NaN</td>\n",
       "      <td>33627656.0</td>\n",
       "      <td>English</td>\n",
       "      <td>Nat. Commun.</td>\n",
       "      <td>Article</td>\n",
       "      <td>Final</td>\n",
       "      <td>All Open Access, Gold, Green</td>\n",
       "      <td>Scopus</td>\n",
       "      <td>2-s2.0-85101550210</td>\n",
       "    </tr>\n",
       "    <tr>\n",
       "      <th>2</th>\n",
       "      <td>West T.A.P., Salekin S., Melia N., Wakelin S.J...</td>\n",
       "      <td>55970453700;56664449200;56862288100;7005793487...</td>\n",
       "      <td>Diversification of forestry portfolios for cli...</td>\n",
       "      <td>2021</td>\n",
       "      <td>Journal of Environmental Management</td>\n",
       "      <td>289</td>\n",
       "      <td>NaN</td>\n",
       "      <td>112482</td>\n",
       "      <td>NaN</td>\n",
       "      <td>NaN</td>\n",
       "      <td>...</td>\n",
       "      <td>NaN</td>\n",
       "      <td>JEVMA</td>\n",
       "      <td>33813299.0</td>\n",
       "      <td>English</td>\n",
       "      <td>J. Environ. Manage.</td>\n",
       "      <td>Article</td>\n",
       "      <td>Final</td>\n",
       "      <td>NaN</td>\n",
       "      <td>Scopus</td>\n",
       "      <td>2-s2.0-85103643397</td>\n",
       "    </tr>\n",
       "    <tr>\n",
       "      <th>3</th>\n",
       "      <td>Basupi I.</td>\n",
       "      <td>55602343700;</td>\n",
       "      <td>Implications of Climate Change Mitigation and ...</td>\n",
       "      <td>2021</td>\n",
       "      <td>Journal of Infrastructure Systems</td>\n",
       "      <td>27</td>\n",
       "      <td>2</td>\n",
       "      <td>04021009</td>\n",
       "      <td>NaN</td>\n",
       "      <td>NaN</td>\n",
       "      <td>...</td>\n",
       "      <td>NaN</td>\n",
       "      <td>NaN</td>\n",
       "      <td>NaN</td>\n",
       "      <td>English</td>\n",
       "      <td>J. Infrastruct. Syst.</td>\n",
       "      <td>Article</td>\n",
       "      <td>Final</td>\n",
       "      <td>NaN</td>\n",
       "      <td>Scopus</td>\n",
       "      <td>2-s2.0-85103308527</td>\n",
       "    </tr>\n",
       "    <tr>\n",
       "      <th>4</th>\n",
       "      <td>Azevedo I., Leal V.</td>\n",
       "      <td>7006492454;6603496558;</td>\n",
       "      <td>A new model for ex-post quantification of the ...</td>\n",
       "      <td>2021</td>\n",
       "      <td>Renewable and Sustainable Energy Reviews</td>\n",
       "      <td>143</td>\n",
       "      <td>NaN</td>\n",
       "      <td>110890</td>\n",
       "      <td>NaN</td>\n",
       "      <td>NaN</td>\n",
       "      <td>...</td>\n",
       "      <td>NaN</td>\n",
       "      <td>RSERF</td>\n",
       "      <td>NaN</td>\n",
       "      <td>English</td>\n",
       "      <td>Renewable Sustainable Energy Rev</td>\n",
       "      <td>Article</td>\n",
       "      <td>Final</td>\n",
       "      <td>NaN</td>\n",
       "      <td>Scopus</td>\n",
       "      <td>2-s2.0-85103287888</td>\n",
       "    </tr>\n",
       "  </tbody>\n",
       "</table>\n",
       "<p>5 rows × 49 columns</p>\n",
       "</div>"
      ],
      "text/plain": [
       "                                             Authors  \\\n",
       "0                 Monerie P.-A., Pohl B., Gaetani M.   \n",
       "1           Koh L.P., Zeng Y., Sarira T.V., Siman K.   \n",
       "2  West T.A.P., Salekin S., Melia N., Wakelin S.J...   \n",
       "3                                          Basupi I.   \n",
       "4                                Azevedo I., Leal V.   \n",
       "\n",
       "                                        Author(s) ID  \\\n",
       "0                36995939400;8934032500;15319055900;   \n",
       "1    7004786474;55344338300;57217291359;57222126865;   \n",
       "2  55970453700;56664449200;56862288100;7005793487...   \n",
       "3                                       55602343700;   \n",
       "4                             7006492454;6603496558;   \n",
       "\n",
       "                                               Title  Year  \\\n",
       "0  The fast response of Sahel precipitation to cl...  2021   \n",
       "1  Carbon prospecting in tropical forests for cli...  2021   \n",
       "2  Diversification of forestry portfolios for cli...  2021   \n",
       "3  Implications of Climate Change Mitigation and ...  2021   \n",
       "4  A new model for ex-post quantification of the ...  2021   \n",
       "\n",
       "                               Source title Volume Issue   Art. No.  \\\n",
       "0       npj Climate and Atmospheric Science      4     1         24   \n",
       "1                     Nature Communications     12     1       1271   \n",
       "2       Journal of Environmental Management    289   NaN     112482   \n",
       "3         Journal of Infrastructure Systems     27     2   04021009   \n",
       "4  Renewable and Sustainable Energy Reviews    143   NaN     110890   \n",
       "\n",
       "  Page start Page end  ...  ISBN  CODEN   PubMed ID  \\\n",
       "0        NaN      NaN  ...   NaN    NaN         NaN   \n",
       "1        NaN      NaN  ...   NaN    NaN  33627656.0   \n",
       "2        NaN      NaN  ...   NaN  JEVMA  33813299.0   \n",
       "3        NaN      NaN  ...   NaN    NaN         NaN   \n",
       "4        NaN      NaN  ...   NaN  RSERF         NaN   \n",
       "\n",
       "  Language of Original Document          Abbreviated Source Title  \\\n",
       "0                       English             npj Clim. Atmos. Sci.   \n",
       "1                       English                      Nat. Commun.   \n",
       "2                       English               J. Environ. Manage.   \n",
       "3                       English             J. Infrastruct. Syst.   \n",
       "4                       English  Renewable Sustainable Energy Rev   \n",
       "\n",
       "  Document Type Publication Stage                   Open Access  Source  \\\n",
       "0       Article             Final  All Open Access, Gold, Green  Scopus   \n",
       "1       Article             Final  All Open Access, Gold, Green  Scopus   \n",
       "2       Article             Final                           NaN  Scopus   \n",
       "3       Article             Final                           NaN  Scopus   \n",
       "4       Article             Final                           NaN  Scopus   \n",
       "\n",
       "                  EID  \n",
       "0  2-s2.0-85103988374  \n",
       "1  2-s2.0-85101550210  \n",
       "2  2-s2.0-85103643397  \n",
       "3  2-s2.0-85103308527  \n",
       "4  2-s2.0-85103287888  \n",
       "\n",
       "[5 rows x 49 columns]"
      ]
     },
     "execution_count": 2,
     "metadata": {},
     "output_type": "execute_result"
    }
   ],
   "source": [
    "# Read data to pandas dataframe\n",
    "data = pd.read_csv('scopus_data.csv')\n",
    "\n",
    "# Print first 5 rows of raw data\n",
    "data.head()\n"
   ]
  },
  {
   "cell_type": "code",
   "execution_count": 3,
   "metadata": {},
   "outputs": [],
   "source": [
    "# Select columns that we want to use\n",
    "data = data.iloc[:, [0, 1, 2, 14, 15, 17]]\n"
   ]
  },
  {
   "cell_type": "code",
   "execution_count": 4,
   "metadata": {},
   "outputs": [],
   "source": [
    "#make strings lowercase to help in comparing\n",
    "data[\"Author Keywords\"] = data[\"Author Keywords\"].str.lower()\n",
    "data[\"Authors\"] = data[\"Authors\"].str.lower()"
   ]
  },
  {
   "cell_type": "code",
   "execution_count": 5,
   "metadata": {},
   "outputs": [
    {
     "data": {
      "text/html": [
       "<div>\n",
       "<style scoped>\n",
       "    .dataframe tbody tr th:only-of-type {\n",
       "        vertical-align: middle;\n",
       "    }\n",
       "\n",
       "    .dataframe tbody tr th {\n",
       "        vertical-align: top;\n",
       "    }\n",
       "\n",
       "    .dataframe thead th {\n",
       "        text-align: right;\n",
       "    }\n",
       "</style>\n",
       "<table border=\"1\" class=\"dataframe\">\n",
       "  <thead>\n",
       "    <tr style=\"text-align: right;\">\n",
       "      <th></th>\n",
       "      <th>Authors</th>\n",
       "      <th>Author(s) ID</th>\n",
       "      <th>Title</th>\n",
       "      <th>Affiliations</th>\n",
       "      <th>Authors with affiliations</th>\n",
       "      <th>Author Keywords</th>\n",
       "    </tr>\n",
       "  </thead>\n",
       "  <tbody>\n",
       "    <tr>\n",
       "      <th>747</th>\n",
       "      <td>dedinec a., taseska-gjorgievska v., markovska ...</td>\n",
       "      <td>55447959200;26430113800;22994164800;5709264690...</td>\n",
       "      <td>Towards post-2020 climate change regime: Analy...</td>\n",
       "      <td>Research Center for Energy and Sustainable Dev...</td>\n",
       "      <td>Dedinec, A., Research Center for Energy and Su...</td>\n",
       "      <td>climate change mitigation; eu targets; markal ...</td>\n",
       "    </tr>\n",
       "    <tr>\n",
       "      <th>748</th>\n",
       "      <td>creutzig f.</td>\n",
       "      <td>23995215600;</td>\n",
       "      <td>Economic and ecological views on climate chang...</td>\n",
       "      <td>Mercator Research Institute on Global Commons ...</td>\n",
       "      <td>Creutzig, F., Mercator Research Institute on G...</td>\n",
       "      <td>beccs; bioenergy; biophysical limits; climate ...</td>\n",
       "    </tr>\n",
       "    <tr>\n",
       "      <th>749</th>\n",
       "      <td>ekholm t.</td>\n",
       "      <td>23569259100;</td>\n",
       "      <td>Optimal forest rotation age under efficient cl...</td>\n",
       "      <td>VTT Technical Research Centre of Finland, VTT,...</td>\n",
       "      <td>Ekholm, T., VTT Technical Research Centre of F...</td>\n",
       "      <td>carbon pricing; climate change mitigation; opt...</td>\n",
       "    </tr>\n",
       "    <tr>\n",
       "      <th>750</th>\n",
       "      <td>kaspersen b.s., jacobsen t.v., butts m.b., boe...</td>\n",
       "      <td>56901402800;18433965900;7004354427;55887715600...</td>\n",
       "      <td>Integrating climate change mitigation into riv...</td>\n",
       "      <td>Department of Environmental, Social and Spatia...</td>\n",
       "      <td>Kaspersen, B.S., Department of Environmental, ...</td>\n",
       "      <td>agriculture; climate change mitigation; decisi...</td>\n",
       "    </tr>\n",
       "    <tr>\n",
       "      <th>751</th>\n",
       "      <td>lindstad h., bright r.m., strømman a.h.</td>\n",
       "      <td>57204851094;34976345200;8699301400;</td>\n",
       "      <td>Economic savings linked to future Arctic shipp...</td>\n",
       "      <td>Norwegian Marine Technology Research Institute...</td>\n",
       "      <td>Lindstad, H., Norwegian Marine Technology Rese...</td>\n",
       "      <td>arctic; emissions; greenhouse gases; gwp; imo;...</td>\n",
       "    </tr>\n",
       "  </tbody>\n",
       "</table>\n",
       "</div>"
      ],
      "text/plain": [
       "                                               Authors  \\\n",
       "747  dedinec a., taseska-gjorgievska v., markovska ...   \n",
       "748                                        creutzig f.   \n",
       "749                                          ekholm t.   \n",
       "750  kaspersen b.s., jacobsen t.v., butts m.b., boe...   \n",
       "751            lindstad h., bright r.m., strømman a.h.   \n",
       "\n",
       "                                          Author(s) ID  \\\n",
       "747  55447959200;26430113800;22994164800;5709264690...   \n",
       "748                                       23995215600;   \n",
       "749                                       23569259100;   \n",
       "750  56901402800;18433965900;7004354427;55887715600...   \n",
       "751                57204851094;34976345200;8699301400;   \n",
       "\n",
       "                                                 Title  \\\n",
       "747  Towards post-2020 climate change regime: Analy...   \n",
       "748  Economic and ecological views on climate chang...   \n",
       "749  Optimal forest rotation age under efficient cl...   \n",
       "750  Integrating climate change mitigation into riv...   \n",
       "751  Economic savings linked to future Arctic shipp...   \n",
       "\n",
       "                                          Affiliations  \\\n",
       "747  Research Center for Energy and Sustainable Dev...   \n",
       "748  Mercator Research Institute on Global Commons ...   \n",
       "749  VTT Technical Research Centre of Finland, VTT,...   \n",
       "750  Department of Environmental, Social and Spatia...   \n",
       "751  Norwegian Marine Technology Research Institute...   \n",
       "\n",
       "                             Authors with affiliations  \\\n",
       "747  Dedinec, A., Research Center for Energy and Su...   \n",
       "748  Creutzig, F., Mercator Research Institute on G...   \n",
       "749  Ekholm, T., VTT Technical Research Centre of F...   \n",
       "750  Kaspersen, B.S., Department of Environmental, ...   \n",
       "751  Lindstad, H., Norwegian Marine Technology Rese...   \n",
       "\n",
       "                                       Author Keywords  \n",
       "747  climate change mitigation; eu targets; markal ...  \n",
       "748  beccs; bioenergy; biophysical limits; climate ...  \n",
       "749  carbon pricing; climate change mitigation; opt...  \n",
       "750  agriculture; climate change mitigation; decisi...  \n",
       "751  arctic; emissions; greenhouse gases; gwp; imo;...  "
      ]
     },
     "execution_count": 5,
     "metadata": {},
     "output_type": "execute_result"
    }
   ],
   "source": [
    "data.tail()"
   ]
  },
  {
   "cell_type": "code",
   "execution_count": 6,
   "metadata": {},
   "outputs": [
    {
     "name": "stdout",
     "output_type": "stream",
     "text": [
      "<class 'pandas.core.frame.DataFrame'>\n",
      "RangeIndex: 752 entries, 0 to 751\n",
      "Data columns (total 6 columns):\n",
      " #   Column                     Non-Null Count  Dtype \n",
      "---  ------                     --------------  ----- \n",
      " 0   Authors                    752 non-null    object\n",
      " 1   Author(s) ID               752 non-null    object\n",
      " 2   Title                      752 non-null    object\n",
      " 3   Affiliations               747 non-null    object\n",
      " 4   Authors with affiliations  751 non-null    object\n",
      " 5   Author Keywords            637 non-null    object\n",
      "dtypes: object(6)\n",
      "memory usage: 35.4+ KB\n"
     ]
    }
   ],
   "source": [
    "data.info()\n",
    "# Save new dataframe to csv file\n",
    "data.to_csv('parsed_data.csv')"
   ]
  },
  {
   "cell_type": "markdown",
   "metadata": {},
   "source": [
    "<br>Next we would like to analyze how authors compare to each other in terms of number of publications and what kind of keywords are used in these papers. However we notice that certian columns contain multiple wanted elements in each row. These values are Authors, Author(s) ids and Author keywords. Next we need to compose some kind of lists from the information given in data file. Let's start by exploding these columns into lists where don't care about relations between these objects.<br>"
   ]
  },
  {
   "cell_type": "code",
   "execution_count": 7,
   "metadata": {},
   "outputs": [],
   "source": [
    "data['Author(s) ID'] = data['Author(s) ID'].str.split(';')\n",
    "data['Authors'] = data['Authors'].str.split(', ')\n",
    "data['Author Keywords'] = data['Author Keywords'].str.split('; ')\n",
    "\n",
    "res_ids = data.explode('Author(s) ID').reset_index(drop=True)\n",
    "res_authors = data.explode('Authors').reset_index(drop=True)\n",
    "res_keywords = data.explode('Author Keywords')\n",
    "\n",
    "author_ids = res_ids['Author(s) ID'].values.tolist()\n",
    "authors = res_authors['Authors'].values.tolist()\n",
    "keywords = res_keywords[\"Author Keywords\"].values.tolist()\n",
    "\n",
    "author_ids = list(filter(None, author_ids))\n",
    "authors = list(filter(None, authors))\n",
    "keywords = [x for x in keywords if str(x) != 'nan']\n",
    "\n",
    "\n",
    "#print(Counter(author_ids))\n",
    "#print(len(author_ids))\n",
    "#print(len(authors))\n",
    "#print(len(keywords))\n",
    "\n",
    "zip_iterator = zip(author_ids, authors)\n",
    "\n",
    "a_dictionary = dict(zip_iterator) # does not work, 3 row difference between authors and author_ids somehow\n",
    "#print(a_dictionary)\n",
    "#print(len(a_dictionary))"
   ]
  },
  {
   "cell_type": "markdown",
   "metadata": {},
   "source": [
    "<br>Now we can count how many times one author is mentioned in publication and plot results to histogram. **Note** that only first 300 authors are included in plot. Rest of the authors had their name mentioned once in this dataset<br>"
   ]
  },
  {
   "cell_type": "code",
   "execution_count": 8,
   "metadata": {},
   "outputs": [
    {
     "data": {
      "image/png": "[encoded data removed]",
      "text/plain": [
       "<Figure size 1296x360 with 1 Axes>"
      ]
     },
     "metadata": {},
     "output_type": "display_data"
    }
   ],
   "source": [
    "auth_counter = Counter(author_ids)\n",
    "frequent_names, frequent_counts = zip(*auth_counter.most_common(300))\n",
    "\n",
    "fig, ax = plt.subplots(figsize=(18,5))\n",
    "plt.bar(np.arange(len(frequent_names)), frequent_counts, align='center')\n",
    "plt.ylabel('Times mentioned')\n",
    "plt.show()"
   ]
  },
  {
   "cell_type": "markdown",
   "metadata": {},
   "source": [
    "<br>Let's also print the keyword occurences and check which keywords were the most popular ones.<br>"
   ]
  },
  {
   "cell_type": "code",
   "execution_count": 9,
   "metadata": {},
   "outputs": [
    {
     "data": {
      "image/png": "[encoded data removed]",
      "text/plain": [
       "<Figure size 1296x360 with 1 Axes>"
      ]
     },
     "metadata": {},
     "output_type": "display_data"
    }
   ],
   "source": [
    "keyword_counter = Counter(keywords)\n",
    "frequent_keywords, frequent_wordcounts = zip(*keyword_counter.most_common(300))\n",
    "\n",
    "fig, ax = plt.subplots(figsize=(18,5))\n",
    "plt.bar(np.arange(len(frequent_keywords)), frequent_wordcounts, align='center')\n",
    "plt.ylabel('Times mentioned')\n",
    "plt.show()"
   ]
  },
  {
   "cell_type": "code",
   "execution_count": 10,
   "metadata": {},
   "outputs": [
    {
     "name": "stdout",
     "output_type": "stream",
     "text": [
      "Most popular keywors:\n",
      "\n",
      "1. climate change\n",
      "2. climate change mitigation\n",
      "3. mitigation\n",
      "4. adaptation\n",
      "5. agriculture\n",
      "6. carbon sequestration\n",
      "7. climate policy\n",
      "8. renewable energy\n",
      "9. sustainability\n",
      "10. greenhouse gas emissions\n",
      "11. bioenergy\n",
      "12. redd+\n",
      "13. food security\n",
      "14. paris agreement\n",
      "15. biomass\n",
      "16. sustainable development\n",
      "17. emissions\n",
      "18. greenhouse gas\n",
      "19. co2 emissions\n",
      "20. energy efficiency\n",
      "21. governance\n",
      "22. climate change adaptation\n",
      "23. carbon footprint\n",
      "24. life cycle assessment\n",
      "25. climate mitigation\n",
      "26. resilience\n",
      "27. vulnerability\n",
      "28. carbon\n",
      "29. co-benefits\n",
      "30. energy consumption\n",
      "31. policy\n",
      "32. scenario analysis\n",
      "33. land use\n",
      "34. soil organic carbon\n",
      "35. cities\n",
      "36. carbon pricing\n",
      "37. environment\n",
      "38. health\n",
      "39. uncertainty\n",
      "40. forest management\n",
      "41. electric vehicles\n",
      "42. carbon stock\n",
      "43. mitigation strategies\n",
      "44. willingness to pay\n",
      "45. ghg emissions\n",
      "46. planning\n",
      "47. synergy\n",
      "48. greenhouse gases\n",
      "49. global warming\n",
      "50. china\n"
     ]
    }
   ],
   "source": [
    "print(\"Most popular keywors:\\n\")\n",
    "for i in range(50):\n",
    "    print(\"{}. {}\".format(i+1, frequent_keywords[i]))"
   ]
  },
  {
   "cell_type": "markdown",
   "metadata": {},
   "source": [
    "### Construct graph"
   ]
  },
  {
   "cell_type": "markdown",
   "metadata": {},
   "source": [
    "5. Provide in a table the global attributes of this graph in terms of number of nodes,\n",
    "edges, largest component, average degree centrality, global clustering coefficient,\n",
    "diameter, average path length."
   ]
  },
  {
   "cell_type": "code",
   "execution_count": 11,
   "metadata": {},
   "outputs": [],
   "source": [
    "import networkx as nx"
   ]
  },
  {
   "cell_type": "code",
   "execution_count": 26,
   "metadata": {},
   "outputs": [
    {
     "name": "stdout",
     "output_type": "stream",
     "text": [
      "Total number of nodes: 2823\n",
      "Total number of edges: 15080\n",
      "Largest connected component: TODO\n",
      "Global clustering coefficient: 0.9544\n",
      "Graph diameter: 2\n",
      "Average path length: 1.9969\n"
     ]
    }
   ],
   "source": [
    "publication_participants = data['Author(s) ID'].values.tolist()\n",
    "publication_participants = list(filter(None, publication_participants))\n",
    "\n",
    "graph = nx.Graph()\n",
    "\n",
    "#TODO: figure something less spaghetti\n",
    "for i in range(len(publication_participants)):\n",
    "    if len(publication_participants[i]) > 1:\n",
    "        for j in range(len(publication_participants[i])):\n",
    "            for k in range(len(publication_participants[i])):\n",
    "                if(publication_participants[i][j] != None  and publication_participants[i][k] != None):\n",
    "                    graph.add_node(publication_participants[i][k])\n",
    "                    if (k+j) < len(publication_participants[i]):\n",
    "                        graph.add_edge(publication_participants[i][j], publication_participants[i][k+j])\n",
    "                        \n",
    "\n",
    "                    \n",
    "                    \n",
    "print(\"Total number of nodes: \" + str(len(graph.nodes)))\n",
    "print(\"Total number of edges: \" + str(len(graph.edges)))\n",
    "\n",
    "nx.info(graph)\n",
    "print(\"Largest connected component: TODO\")\n",
    "\n",
    "\n",
    "\n",
    "print(\"Global clustering coefficient: \" + str(round(nx.average_clustering(graph), 4))) # average clustering coefficient\n",
    "print(\"Graph diameter: \" + str(nx.diameter(graph)))\n",
    "print(\"Average path length: \" + str(round(nx.average_shortest_path_length(graph), 4))) #average path length"
   ]
  },
  {
   "cell_type": "code",
   "execution_count": 27,
   "metadata": {},
   "outputs": [
    {
     "name": "stdout",
     "output_type": "stream",
     "text": [
      "Average degree centrality: 0.0038\n"
     ]
    }
   ],
   "source": [
    "res = 0\n",
    "dict_degree_centrality = nx.degree_centrality(graph)\n",
    "\n",
    "for value in dict_degree_centrality.values():\n",
    "    res += value\n",
    "    \n",
    "avg_degree_cent = res / len(dict_degree_centrality)\n",
    "\n",
    "print(\"Average degree centrality: \" + str(round(avg_degree_cent, 4)))"
   ]
  },
  {
   "cell_type": "code",
   "execution_count": 13,
   "metadata": {},
   "outputs": [
    {
     "data": {
      "image/png": "[encoded data removed]",
      "text/plain": [
       "<Figure size 432x288 with 1 Axes>"
      ]
     },
     "metadata": {},
     "output_type": "display_data"
    }
   ],
   "source": [
    "#heitti errorin että vaatii scipy:n \"pip install scipy\"\n",
    "nx.draw(graph)\n",
    "plt.savefig(\"edge_graph.png\")\n",
    "plt.show()\n"
   ]
  },
  {
   "cell_type": "markdown",
   "metadata": {},
   "source": [
    "6. Using the concept of Erdo-number, identify the author who has got the largest number\n",
    "of collaborators (co-authored the papers) and assume this author will be assigned\n",
    "Erdos number 0 and direct co-authors will be assigned Erdos number 1, while other\n",
    "authors who co-authors with the first collaborators and not with that of Erdos number\n",
    "0, will be assigned Erdos number 2, etc.. Draw the distribution of this new Erdos\n",
    "number in terms of number authors that fall in each Erdos number category.\n"
   ]
  },
  {
   "cell_type": "markdown",
   "metadata": {},
   "source": [
    "7. Visualize the graph of authors with Erdös number 1 and 2.\n"
   ]
  },
  {
   "cell_type": "code",
   "execution_count": null,
   "metadata": {},
   "outputs": [],
   "source": []
  }
 ],
 "metadata": {
  "kernelspec": {
   "display_name": "Python 3",
   "language": "python",
   "name": "python3"
  },
  "language_info": {
   "codemirror_mode": {
    "name": "ipython",
    "version": 3
   },
   "file_extension": ".py",
   "mimetype": "text/x-python",
   "name": "python",
   "nbconvert_exporter": "python",
   "pygments_lexer": "ipython3",
   "version": "3.9.4"
  }
 },
 "nbformat": 4,
 "nbformat_minor": 4
}
